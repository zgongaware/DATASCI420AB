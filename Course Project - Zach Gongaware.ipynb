{
 "cells": [
  {
   "cell_type": "markdown",
   "metadata": {},
   "source": [
    "# DATASCI 420AB - Course Project\n",
    "### Zach Gongaware\n",
    "\n",
    "## April 26 - Project Outline\n",
    "### Project Goal\n",
    "\n",
    "The goal of this project is to project what round (1 - 7, or undrafted) a given college football player might be selected in the NFL Draft.\n",
    "\n",
    "### Data Sources\n",
    "\n",
    "Credit to Sean J Taylor and his Learning the Draft project for original collection of data. There are three data sources for this project:\n",
    "\n",
    "- college_stats.csv - Collegiate stats of players, drafted and undrafted\n",
    "- combines.csv - Stats from yearly NFL Combine\n",
    "- drafts.csv - Players drafted from years 2000 to 2015\n",
    "\n",
    "### Methodology\n",
    "\n",
    "This is primarily a classification problem, so either a decision tree or random forest is likely to be the most performant.\n",
    "\n",
    "### Processing Steps (Pseudo-Code)\n",
    "1. Data Source Collection and Preparation\n",
    "   1. Load Draft data\n",
    "       1. Create key field based on columns common to all three datasets\n",
    "   2. Load Combine data\n",
    "       1. Drop duplicate entries, create key fields, and create flag field noting combine participation\n",
    "   3. Load College Stats data\n",
    "       1. Create key field, roll up duplicate metrics\n",
    "       2. Pivot to wide format table\n",
    "       3. Fill NAs with 0\n",
    "    4. Merge all three data sets based on the key field\n",
    "        1. Combine equivalent columns\n",
    "        2. Drop rows with missing position data\n",
    "        3. Fill NAs \n",
    "2. Prepare data for modeling\n",
    "   1. Convert height fields to inches\n",
    "   2. Create position group field\n",
    "   3. Impute missing combine stats based on mean score of each position group\n",
    "   4. Classify colleges based on number of players\n",
    "       1. Keep schools names for those with 2+ z-score\n",
    "       2. Roll up to \"Mid-Sized School\" for those with z-score between 0 and 2\n",
    "       3. Roll up to \"Small School\" for those with z-score below 0\n",
    "   5. One-Hot Encode Categorical Fields\n",
    "       1. Position\n",
    "       2. College\n",
    "   6. Drop columns extraneous columns\n",
    "   7. Scale all features using z-score\n",
    "3. Divide data into train and test sets\n",
    "   1. Isolate target field (Round) from each set\n",
    "4. Fit Model\n",
    "   1. Fit model to train set\n",
    "   2. Feed test set to generate predictions\n",
    "5. Assess Model Performance\n",
    "   1. Assess performance using confusion matrix and ROC chart\n",
    "6. Repeat Steps 2 - 5 until satisfied with results.\n",
    "   1. Adjust model parameters\n",
    "   2. Remove or add features based on their impact on the model\n",
    "   \n",
    "## May 17 - Exploratory Data Analysis"
   ]
  },
  {
   "cell_type": "code",
   "execution_count": 336,
   "metadata": {},
   "outputs": [],
   "source": [
    "# Load Scripting File\n",
    "%run project_util.py\n",
    "\n",
    "# Perform unit testing\n",
    "perform_unit_tests()\n",
    "\n",
    "# load each data set\n",
    "draft = load_draft_data()\n",
    "comb = load_combine_data()\n",
    "stats = load_college_data()"
   ]
  },
  {
   "cell_type": "markdown",
   "metadata": {},
   "source": [
    "### Draft Data"
   ]
  },
  {
   "cell_type": "code",
   "execution_count": 87,
   "metadata": {},
   "outputs": [
    {
     "data": {
      "text/plain": [
       "(4079, 10)"
      ]
     },
     "execution_count": 87,
     "metadata": {},
     "output_type": "execute_result"
    }
   ],
   "source": [
    "draft.shape"
   ]
  },
  {
   "cell_type": "code",
   "execution_count": 88,
   "metadata": {},
   "outputs": [
    {
     "data": {
      "text/html": [
       "<div>\n",
       "<style>\n",
       "    .dataframe thead tr:only-child th {\n",
       "        text-align: right;\n",
       "    }\n",
       "\n",
       "    .dataframe thead th {\n",
       "        text-align: left;\n",
       "    }\n",
       "\n",
       "    .dataframe tbody tr th {\n",
       "        vertical-align: top;\n",
       "    }\n",
       "</style>\n",
       "<table border=\"1\" class=\"dataframe\">\n",
       "  <thead>\n",
       "    <tr style=\"text-align: right;\">\n",
       "      <th></th>\n",
       "      <th>year</th>\n",
       "      <th>round</th>\n",
       "      <th>pick</th>\n",
       "      <th>team</th>\n",
       "      <th>player</th>\n",
       "      <th>pos</th>\n",
       "      <th>age</th>\n",
       "      <th>college</th>\n",
       "      <th>url</th>\n",
       "      <th>key</th>\n",
       "    </tr>\n",
       "  </thead>\n",
       "  <tbody>\n",
       "    <tr>\n",
       "      <th>0</th>\n",
       "      <td>2000</td>\n",
       "      <td>1</td>\n",
       "      <td>1</td>\n",
       "      <td>CLE</td>\n",
       "      <td>Courtney Brown</td>\n",
       "      <td>DE</td>\n",
       "      <td>22.0</td>\n",
       "      <td>Penn St.</td>\n",
       "      <td>http://www.sports-reference.com/cfb/players/co...</td>\n",
       "      <td>http://www.sports-reference.com/cfb/players/co...</td>\n",
       "    </tr>\n",
       "    <tr>\n",
       "      <th>1</th>\n",
       "      <td>2000</td>\n",
       "      <td>1</td>\n",
       "      <td>2</td>\n",
       "      <td>WAS</td>\n",
       "      <td>LaVar Arrington</td>\n",
       "      <td>LB</td>\n",
       "      <td>22.0</td>\n",
       "      <td>Penn St.</td>\n",
       "      <td>http://www.sports-reference.com/cfb/players/la...</td>\n",
       "      <td>http://www.sports-reference.com/cfb/players/la...</td>\n",
       "    </tr>\n",
       "    <tr>\n",
       "      <th>2</th>\n",
       "      <td>2000</td>\n",
       "      <td>1</td>\n",
       "      <td>3</td>\n",
       "      <td>WAS</td>\n",
       "      <td>Chris Samuels</td>\n",
       "      <td>T</td>\n",
       "      <td>23.0</td>\n",
       "      <td>Alabama</td>\n",
       "      <td>http://www.sports-reference.com/cfb/players/ch...</td>\n",
       "      <td>http://www.sports-reference.com/cfb/players/ch...</td>\n",
       "    </tr>\n",
       "    <tr>\n",
       "      <th>3</th>\n",
       "      <td>2000</td>\n",
       "      <td>1</td>\n",
       "      <td>4</td>\n",
       "      <td>CIN</td>\n",
       "      <td>Peter Warrick</td>\n",
       "      <td>WR</td>\n",
       "      <td>23.0</td>\n",
       "      <td>Florida St.</td>\n",
       "      <td>http://www.sports-reference.com/cfb/players/pe...</td>\n",
       "      <td>http://www.sports-reference.com/cfb/players/pe...</td>\n",
       "    </tr>\n",
       "    <tr>\n",
       "      <th>4</th>\n",
       "      <td>2000</td>\n",
       "      <td>1</td>\n",
       "      <td>5</td>\n",
       "      <td>BAL</td>\n",
       "      <td>Jamal Lewis</td>\n",
       "      <td>RB</td>\n",
       "      <td>21.0</td>\n",
       "      <td>Tennessee</td>\n",
       "      <td>http://www.sports-reference.com/cfb/players/ja...</td>\n",
       "      <td>http://www.sports-reference.com/cfb/players/ja...</td>\n",
       "    </tr>\n",
       "  </tbody>\n",
       "</table>\n",
       "</div>"
      ],
      "text/plain": [
       "   year  round  pick team           player pos   age      college  \\\n",
       "0  2000      1     1  CLE   Courtney Brown  DE  22.0     Penn St.   \n",
       "1  2000      1     2  WAS  LaVar Arrington  LB  22.0     Penn St.   \n",
       "2  2000      1     3  WAS    Chris Samuels   T  23.0      Alabama   \n",
       "3  2000      1     4  CIN    Peter Warrick  WR  23.0  Florida St.   \n",
       "4  2000      1     5  BAL      Jamal Lewis  RB  21.0    Tennessee   \n",
       "\n",
       "                                                 url  \\\n",
       "0  http://www.sports-reference.com/cfb/players/co...   \n",
       "1  http://www.sports-reference.com/cfb/players/la...   \n",
       "2  http://www.sports-reference.com/cfb/players/ch...   \n",
       "3  http://www.sports-reference.com/cfb/players/pe...   \n",
       "4  http://www.sports-reference.com/cfb/players/ja...   \n",
       "\n",
       "                                                 key  \n",
       "0  http://www.sports-reference.com/cfb/players/co...  \n",
       "1  http://www.sports-reference.com/cfb/players/la...  \n",
       "2  http://www.sports-reference.com/cfb/players/ch...  \n",
       "3  http://www.sports-reference.com/cfb/players/pe...  \n",
       "4  http://www.sports-reference.com/cfb/players/ja...  "
      ]
     },
     "execution_count": 88,
     "metadata": {},
     "output_type": "execute_result"
    }
   ],
   "source": [
    "draft.head()"
   ]
  },
  {
   "cell_type": "markdown",
   "metadata": {},
   "source": [
    "Key field is derived from URL; or player name + year if URL is missing."
   ]
  },
  {
   "cell_type": "code",
   "execution_count": 89,
   "metadata": {},
   "outputs": [
    {
     "data": {
      "text/plain": [
       "year         int64\n",
       "round        int64\n",
       "pick         int64\n",
       "team        object\n",
       "player      object\n",
       "pos         object\n",
       "age        float64\n",
       "college     object\n",
       "url         object\n",
       "key         object\n",
       "dtype: object"
      ]
     },
     "execution_count": 89,
     "metadata": {},
     "output_type": "execute_result"
    }
   ],
   "source": [
    "draft.dtypes"
   ]
  },
  {
   "cell_type": "markdown",
   "metadata": {},
   "source": [
    "Position and college will have to be one-hot encoded to be factored into the model.  Year, Pick, Team, and Player Name will need to be excluded to prevent over-fitting."
   ]
  },
  {
   "cell_type": "code",
   "execution_count": 90,
   "metadata": {},
   "outputs": [
    {
     "data": {
      "text/plain": [
       "year          0\n",
       "round         0\n",
       "pick          0\n",
       "team          0\n",
       "player        0\n",
       "pos           0\n",
       "age         276\n",
       "college      10\n",
       "url        1087\n",
       "key           0\n",
       "dtype: int64"
      ]
     },
     "execution_count": 90,
     "metadata": {},
     "output_type": "execute_result"
    }
   ],
   "source": [
    "draft.isnull().sum()"
   ]
  },
  {
   "cell_type": "markdown",
   "metadata": {},
   "source": [
    "Around 1/4 of entries do not have URL and some are missing age.\n",
    "### Combine Data"
   ]
  },
  {
   "cell_type": "code",
   "execution_count": 91,
   "metadata": {},
   "outputs": [
    {
     "data": {
      "text/plain": [
       "(5552, 15)"
      ]
     },
     "execution_count": 91,
     "metadata": {},
     "output_type": "execute_result"
    }
   ],
   "source": [
    "comb.shape"
   ]
  },
  {
   "cell_type": "code",
   "execution_count": 92,
   "metadata": {},
   "outputs": [
    {
     "data": {
      "text/html": [
       "<div>\n",
       "<style>\n",
       "    .dataframe thead tr:only-child th {\n",
       "        text-align: right;\n",
       "    }\n",
       "\n",
       "    .dataframe thead th {\n",
       "        text-align: left;\n",
       "    }\n",
       "\n",
       "    .dataframe tbody tr th {\n",
       "        vertical-align: top;\n",
       "    }\n",
       "</style>\n",
       "<table border=\"1\" class=\"dataframe\">\n",
       "  <thead>\n",
       "    <tr style=\"text-align: right;\">\n",
       "      <th></th>\n",
       "      <th>year_combine</th>\n",
       "      <th>player_combine</th>\n",
       "      <th>pos_combine</th>\n",
       "      <th>college_combine</th>\n",
       "      <th>height</th>\n",
       "      <th>weight</th>\n",
       "      <th>forty</th>\n",
       "      <th>vertical</th>\n",
       "      <th>bench</th>\n",
       "      <th>broad</th>\n",
       "      <th>threecone</th>\n",
       "      <th>shuttle</th>\n",
       "      <th>url_combine</th>\n",
       "      <th>key</th>\n",
       "      <th>combine_participant</th>\n",
       "    </tr>\n",
       "  </thead>\n",
       "  <tbody>\n",
       "    <tr>\n",
       "      <th>0</th>\n",
       "      <td>2000</td>\n",
       "      <td>John Abraham</td>\n",
       "      <td>OLB</td>\n",
       "      <td>South Carolina</td>\n",
       "      <td>6-4</td>\n",
       "      <td>252</td>\n",
       "      <td>4.55</td>\n",
       "      <td>NaN</td>\n",
       "      <td>NaN</td>\n",
       "      <td>NaN</td>\n",
       "      <td>NaN</td>\n",
       "      <td>NaN</td>\n",
       "      <td>NaN</td>\n",
       "      <td>John Abraham-2000</td>\n",
       "      <td>1</td>\n",
       "    </tr>\n",
       "    <tr>\n",
       "      <th>1</th>\n",
       "      <td>2000</td>\n",
       "      <td>Shaun Alexander</td>\n",
       "      <td>RB</td>\n",
       "      <td>Alabama</td>\n",
       "      <td>6-0</td>\n",
       "      <td>218</td>\n",
       "      <td>4.58</td>\n",
       "      <td>NaN</td>\n",
       "      <td>NaN</td>\n",
       "      <td>NaN</td>\n",
       "      <td>NaN</td>\n",
       "      <td>NaN</td>\n",
       "      <td>http://www.sports-reference.com/cfb/players/sh...</td>\n",
       "      <td>http://www.sports-reference.com/cfb/players/sh...</td>\n",
       "      <td>1</td>\n",
       "    </tr>\n",
       "    <tr>\n",
       "      <th>2</th>\n",
       "      <td>2000</td>\n",
       "      <td>Darnell Alford</td>\n",
       "      <td>OT</td>\n",
       "      <td>Boston College</td>\n",
       "      <td>6-4</td>\n",
       "      <td>334</td>\n",
       "      <td>5.56</td>\n",
       "      <td>25.0</td>\n",
       "      <td>23.0</td>\n",
       "      <td>94.0</td>\n",
       "      <td>8.48</td>\n",
       "      <td>4.98</td>\n",
       "      <td>NaN</td>\n",
       "      <td>Darnell Alford-2000</td>\n",
       "      <td>1</td>\n",
       "    </tr>\n",
       "    <tr>\n",
       "      <th>3</th>\n",
       "      <td>2000</td>\n",
       "      <td>Kyle Allamon</td>\n",
       "      <td>TE</td>\n",
       "      <td>Texas Tech</td>\n",
       "      <td>6-2</td>\n",
       "      <td>253</td>\n",
       "      <td>4.97</td>\n",
       "      <td>29.0</td>\n",
       "      <td>NaN</td>\n",
       "      <td>104.0</td>\n",
       "      <td>7.29</td>\n",
       "      <td>4.49</td>\n",
       "      <td>NaN</td>\n",
       "      <td>Kyle Allamon-2000</td>\n",
       "      <td>1</td>\n",
       "    </tr>\n",
       "    <tr>\n",
       "      <th>4</th>\n",
       "      <td>2000</td>\n",
       "      <td>Rashard Anderson</td>\n",
       "      <td>CB</td>\n",
       "      <td>Jackson State</td>\n",
       "      <td>6-2</td>\n",
       "      <td>206</td>\n",
       "      <td>4.55</td>\n",
       "      <td>34.0</td>\n",
       "      <td>NaN</td>\n",
       "      <td>123.0</td>\n",
       "      <td>7.18</td>\n",
       "      <td>4.15</td>\n",
       "      <td>NaN</td>\n",
       "      <td>Rashard Anderson-2000</td>\n",
       "      <td>1</td>\n",
       "    </tr>\n",
       "  </tbody>\n",
       "</table>\n",
       "</div>"
      ],
      "text/plain": [
       "   year_combine    player_combine pos_combine college_combine height  weight  \\\n",
       "0          2000      John Abraham         OLB  South Carolina    6-4     252   \n",
       "1          2000   Shaun Alexander          RB         Alabama    6-0     218   \n",
       "2          2000    Darnell Alford          OT  Boston College    6-4     334   \n",
       "3          2000      Kyle Allamon          TE      Texas Tech    6-2     253   \n",
       "4          2000  Rashard Anderson          CB   Jackson State    6-2     206   \n",
       "\n",
       "   forty  vertical  bench  broad  threecone  shuttle  \\\n",
       "0   4.55       NaN    NaN    NaN        NaN      NaN   \n",
       "1   4.58       NaN    NaN    NaN        NaN      NaN   \n",
       "2   5.56      25.0   23.0   94.0       8.48     4.98   \n",
       "3   4.97      29.0    NaN  104.0       7.29     4.49   \n",
       "4   4.55      34.0    NaN  123.0       7.18     4.15   \n",
       "\n",
       "                                         url_combine  \\\n",
       "0                                                NaN   \n",
       "1  http://www.sports-reference.com/cfb/players/sh...   \n",
       "2                                                NaN   \n",
       "3                                                NaN   \n",
       "4                                                NaN   \n",
       "\n",
       "                                                 key  combine_participant  \n",
       "0                                  John Abraham-2000                    1  \n",
       "1  http://www.sports-reference.com/cfb/players/sh...                    1  \n",
       "2                                Darnell Alford-2000                    1  \n",
       "3                                  Kyle Allamon-2000                    1  \n",
       "4                              Rashard Anderson-2000                    1  "
      ]
     },
     "execution_count": 92,
     "metadata": {},
     "output_type": "execute_result"
    }
   ],
   "source": [
    "comb.head()"
   ]
  },
  {
   "cell_type": "markdown",
   "metadata": {},
   "source": [
    "Dimensions that match those in draft data set labeled with _combine"
   ]
  },
  {
   "cell_type": "code",
   "execution_count": 93,
   "metadata": {},
   "outputs": [
    {
     "data": {
      "text/plain": [
       "year_combine             int64\n",
       "player_combine          object\n",
       "pos_combine             object\n",
       "college_combine         object\n",
       "height                  object\n",
       "weight                   int64\n",
       "forty                  float64\n",
       "vertical               float64\n",
       "bench                  float64\n",
       "broad                  float64\n",
       "threecone              float64\n",
       "shuttle                float64\n",
       "url_combine             object\n",
       "key                     object\n",
       "combine_participant      int64\n",
       "dtype: object"
      ]
     },
     "execution_count": 93,
     "metadata": {},
     "output_type": "execute_result"
    }
   ],
   "source": [
    "comb.dtypes"
   ]
  },
  {
   "cell_type": "markdown",
   "metadata": {},
   "source": [
    "Height field will need to be converted to measurable integer."
   ]
  },
  {
   "cell_type": "code",
   "execution_count": 94,
   "metadata": {},
   "outputs": [
    {
     "data": {
      "text/plain": [
       "year_combine              0\n",
       "player_combine            0\n",
       "pos_combine               0\n",
       "college_combine           0\n",
       "height                    0\n",
       "weight                    0\n",
       "forty                   112\n",
       "vertical               1338\n",
       "bench                  1836\n",
       "broad                  1591\n",
       "threecone              1952\n",
       "shuttle                1916\n",
       "url_combine            1298\n",
       "key                       0\n",
       "combine_participant       0\n",
       "dtype: int64"
      ]
     },
     "execution_count": 94,
     "metadata": {},
     "output_type": "execute_result"
    }
   ],
   "source": [
    "comb.isnull().sum()"
   ]
  },
  {
   "cell_type": "markdown",
   "metadata": {},
   "source": [
    "A lot of missing data in field tests from players who were injured or chose not to participate.\n",
    "### College Stats Data"
   ]
  },
  {
   "cell_type": "code",
   "execution_count": 95,
   "metadata": {},
   "outputs": [
    {
     "data": {
      "text/plain": [
       "(4488, 58)"
      ]
     },
     "execution_count": 95,
     "metadata": {},
     "output_type": "execute_result"
    }
   ],
   "source": [
    "stats.shape"
   ]
  },
  {
   "cell_type": "code",
   "execution_count": 96,
   "metadata": {},
   "outputs": [
    {
     "data": {
      "text/html": [
       "<div>\n",
       "<style>\n",
       "    .dataframe thead tr:only-child th {\n",
       "        text-align: right;\n",
       "    }\n",
       "\n",
       "    .dataframe thead th {\n",
       "        text-align: left;\n",
       "    }\n",
       "\n",
       "    .dataframe tbody tr th {\n",
       "        vertical-align: top;\n",
       "    }\n",
       "</style>\n",
       "<table border=\"1\" class=\"dataframe\">\n",
       "  <thead>\n",
       "    <tr style=\"text-align: right;\">\n",
       "      <th>metric</th>\n",
       "      <th>key</th>\n",
       "      <th>adj_yards_per_attempt</th>\n",
       "      <th>ast_tackles</th>\n",
       "      <th>attempts</th>\n",
       "      <th>comp_pct</th>\n",
       "      <th>completions</th>\n",
       "      <th>fum_forced</th>\n",
       "      <th>fum_rec</th>\n",
       "      <th>fum_tds</th>\n",
       "      <th>fum_yds</th>\n",
       "      <th>...</th>\n",
       "      <th>td_fr</th>\n",
       "      <th>td_int</th>\n",
       "      <th>td_kr</th>\n",
       "      <th>td_pr</th>\n",
       "      <th>td_rec</th>\n",
       "      <th>td_rush</th>\n",
       "      <th>td_tot</th>\n",
       "      <th>total_pts</th>\n",
       "      <th>twopm</th>\n",
       "      <th>yards_per_attempt</th>\n",
       "    </tr>\n",
       "  </thead>\n",
       "  <tbody>\n",
       "    <tr>\n",
       "      <th>0</th>\n",
       "      <td>http://www.sports-reference.com/cfb/players/aa...</td>\n",
       "      <td>0.0</td>\n",
       "      <td>0.0</td>\n",
       "      <td>0.0</td>\n",
       "      <td>0.0</td>\n",
       "      <td>0.0</td>\n",
       "      <td>0.0</td>\n",
       "      <td>0.0</td>\n",
       "      <td>0.0</td>\n",
       "      <td>0.0</td>\n",
       "      <td>...</td>\n",
       "      <td>0.0</td>\n",
       "      <td>0.0</td>\n",
       "      <td>0.0</td>\n",
       "      <td>0.0</td>\n",
       "      <td>0.0</td>\n",
       "      <td>0.0</td>\n",
       "      <td>0.0</td>\n",
       "      <td>0.0</td>\n",
       "      <td>0.0</td>\n",
       "      <td>0.0</td>\n",
       "    </tr>\n",
       "    <tr>\n",
       "      <th>1</th>\n",
       "      <td>http://www.sports-reference.com/cfb/players/aa...</td>\n",
       "      <td>0.0</td>\n",
       "      <td>0.0</td>\n",
       "      <td>0.0</td>\n",
       "      <td>0.0</td>\n",
       "      <td>0.0</td>\n",
       "      <td>0.0</td>\n",
       "      <td>0.0</td>\n",
       "      <td>0.0</td>\n",
       "      <td>0.0</td>\n",
       "      <td>...</td>\n",
       "      <td>0.0</td>\n",
       "      <td>0.0</td>\n",
       "      <td>1.0</td>\n",
       "      <td>0.0</td>\n",
       "      <td>5.0</td>\n",
       "      <td>20.0</td>\n",
       "      <td>26.0</td>\n",
       "      <td>156.0</td>\n",
       "      <td>0.0</td>\n",
       "      <td>0.0</td>\n",
       "    </tr>\n",
       "    <tr>\n",
       "      <th>2</th>\n",
       "      <td>http://www.sports-reference.com/cfb/players/aa...</td>\n",
       "      <td>0.0</td>\n",
       "      <td>65.0</td>\n",
       "      <td>0.0</td>\n",
       "      <td>0.0</td>\n",
       "      <td>0.0</td>\n",
       "      <td>3.0</td>\n",
       "      <td>4.0</td>\n",
       "      <td>0.0</td>\n",
       "      <td>0.0</td>\n",
       "      <td>...</td>\n",
       "      <td>0.0</td>\n",
       "      <td>2.0</td>\n",
       "      <td>0.0</td>\n",
       "      <td>0.0</td>\n",
       "      <td>0.0</td>\n",
       "      <td>0.0</td>\n",
       "      <td>2.0</td>\n",
       "      <td>12.0</td>\n",
       "      <td>0.0</td>\n",
       "      <td>0.0</td>\n",
       "    </tr>\n",
       "    <tr>\n",
       "      <th>3</th>\n",
       "      <td>http://www.sports-reference.com/cfb/players/aa...</td>\n",
       "      <td>0.0</td>\n",
       "      <td>0.0</td>\n",
       "      <td>0.0</td>\n",
       "      <td>0.0</td>\n",
       "      <td>0.0</td>\n",
       "      <td>0.0</td>\n",
       "      <td>1.0</td>\n",
       "      <td>0.0</td>\n",
       "      <td>0.0</td>\n",
       "      <td>...</td>\n",
       "      <td>0.0</td>\n",
       "      <td>0.0</td>\n",
       "      <td>0.0</td>\n",
       "      <td>0.0</td>\n",
       "      <td>10.0</td>\n",
       "      <td>0.0</td>\n",
       "      <td>10.0</td>\n",
       "      <td>60.0</td>\n",
       "      <td>0.0</td>\n",
       "      <td>0.0</td>\n",
       "    </tr>\n",
       "    <tr>\n",
       "      <th>4</th>\n",
       "      <td>http://www.sports-reference.com/cfb/players/aa...</td>\n",
       "      <td>0.0</td>\n",
       "      <td>64.0</td>\n",
       "      <td>0.0</td>\n",
       "      <td>0.0</td>\n",
       "      <td>0.0</td>\n",
       "      <td>1.0</td>\n",
       "      <td>3.0</td>\n",
       "      <td>0.0</td>\n",
       "      <td>0.0</td>\n",
       "      <td>...</td>\n",
       "      <td>0.0</td>\n",
       "      <td>0.0</td>\n",
       "      <td>0.0</td>\n",
       "      <td>0.0</td>\n",
       "      <td>0.0</td>\n",
       "      <td>0.0</td>\n",
       "      <td>0.0</td>\n",
       "      <td>0.0</td>\n",
       "      <td>0.0</td>\n",
       "      <td>0.0</td>\n",
       "    </tr>\n",
       "  </tbody>\n",
       "</table>\n",
       "<p>5 rows × 58 columns</p>\n",
       "</div>"
      ],
      "text/plain": [
       "metric                                                key  \\\n",
       "0       http://www.sports-reference.com/cfb/players/aa...   \n",
       "1       http://www.sports-reference.com/cfb/players/aa...   \n",
       "2       http://www.sports-reference.com/cfb/players/aa...   \n",
       "3       http://www.sports-reference.com/cfb/players/aa...   \n",
       "4       http://www.sports-reference.com/cfb/players/aa...   \n",
       "\n",
       "metric  adj_yards_per_attempt  ast_tackles  attempts  comp_pct  completions  \\\n",
       "0                         0.0          0.0       0.0       0.0          0.0   \n",
       "1                         0.0          0.0       0.0       0.0          0.0   \n",
       "2                         0.0         65.0       0.0       0.0          0.0   \n",
       "3                         0.0          0.0       0.0       0.0          0.0   \n",
       "4                         0.0         64.0       0.0       0.0          0.0   \n",
       "\n",
       "metric  fum_forced  fum_rec  fum_tds  fum_yds        ...          td_fr  \\\n",
       "0              0.0      0.0      0.0      0.0        ...            0.0   \n",
       "1              0.0      0.0      0.0      0.0        ...            0.0   \n",
       "2              3.0      4.0      0.0      0.0        ...            0.0   \n",
       "3              0.0      1.0      0.0      0.0        ...            0.0   \n",
       "4              1.0      3.0      0.0      0.0        ...            0.0   \n",
       "\n",
       "metric  td_int  td_kr  td_pr  td_rec  td_rush  td_tot  total_pts  twopm  \\\n",
       "0          0.0    0.0    0.0     0.0      0.0     0.0        0.0    0.0   \n",
       "1          0.0    1.0    0.0     5.0     20.0    26.0      156.0    0.0   \n",
       "2          2.0    0.0    0.0     0.0      0.0     2.0       12.0    0.0   \n",
       "3          0.0    0.0    0.0    10.0      0.0    10.0       60.0    0.0   \n",
       "4          0.0    0.0    0.0     0.0      0.0     0.0        0.0    0.0   \n",
       "\n",
       "metric  yards_per_attempt  \n",
       "0                     0.0  \n",
       "1                     0.0  \n",
       "2                     0.0  \n",
       "3                     0.0  \n",
       "4                     0.0  \n",
       "\n",
       "[5 rows x 58 columns]"
      ]
     },
     "execution_count": 96,
     "metadata": {},
     "output_type": "execute_result"
    }
   ],
   "source": [
    "stats.head()"
   ]
  },
  {
   "cell_type": "markdown",
   "metadata": {},
   "source": [
    "Data was pivoted to one row per key entry to match other sets.  Missing data filled in with 0s."
   ]
  },
  {
   "cell_type": "code",
   "execution_count": 98,
   "metadata": {},
   "outputs": [
    {
     "data": {
      "text/plain": [
       "float64    57\n",
       "object      1\n",
       "dtype: int64"
      ]
     },
     "execution_count": 98,
     "metadata": {},
     "output_type": "execute_result"
    }
   ],
   "source": [
    "stats.dtypes.value_counts()"
   ]
  },
  {
   "cell_type": "code",
   "execution_count": 99,
   "metadata": {},
   "outputs": [
    {
     "data": {
      "text/plain": [
       "0"
      ]
     },
     "execution_count": 99,
     "metadata": {},
     "output_type": "execute_result"
    }
   ],
   "source": [
    "stats.isnull().sum().sum()"
   ]
  },
  {
   "cell_type": "markdown",
   "metadata": {},
   "source": [
    "Null values take care of in loading function. (*see project_util.py*)\n",
    "\n",
    "### Combined Data Set"
   ]
  },
  {
   "cell_type": "code",
   "execution_count": 337,
   "metadata": {},
   "outputs": [],
   "source": [
    "combined = combine_data_sets(draft, comb, stats)"
   ]
  },
  {
   "cell_type": "code",
   "execution_count": 334,
   "metadata": {},
   "outputs": [
    {
     "data": {
      "text/plain": [
       "(5556, 75)"
      ]
     },
     "execution_count": 334,
     "metadata": {},
     "output_type": "execute_result"
    }
   ],
   "source": [
    "combined.shape"
   ]
  },
  {
   "cell_type": "code",
   "execution_count": 338,
   "metadata": {},
   "outputs": [
    {
     "data": {
      "text/html": [
       "<div>\n",
       "<style>\n",
       "    .dataframe thead tr:only-child th {\n",
       "        text-align: right;\n",
       "    }\n",
       "\n",
       "    .dataframe thead th {\n",
       "        text-align: left;\n",
       "    }\n",
       "\n",
       "    .dataframe tbody tr th {\n",
       "        vertical-align: top;\n",
       "    }\n",
       "</style>\n",
       "<table border=\"1\" class=\"dataframe\">\n",
       "  <thead>\n",
       "    <tr style=\"text-align: right;\">\n",
       "      <th></th>\n",
       "      <th>year</th>\n",
       "      <th>round</th>\n",
       "      <th>pick</th>\n",
       "      <th>team</th>\n",
       "      <th>player</th>\n",
       "      <th>pos</th>\n",
       "      <th>age</th>\n",
       "      <th>college</th>\n",
       "      <th>key</th>\n",
       "      <th>height</th>\n",
       "      <th>...</th>\n",
       "      <th>td_fr</th>\n",
       "      <th>td_int</th>\n",
       "      <th>td_kr</th>\n",
       "      <th>td_pr</th>\n",
       "      <th>td_rec</th>\n",
       "      <th>td_rush</th>\n",
       "      <th>td_tot</th>\n",
       "      <th>total_pts</th>\n",
       "      <th>twopm</th>\n",
       "      <th>yards_per_attempt</th>\n",
       "    </tr>\n",
       "  </thead>\n",
       "  <tbody>\n",
       "    <tr>\n",
       "      <th>0</th>\n",
       "      <td>2000.0</td>\n",
       "      <td>1</td>\n",
       "      <td>1.0</td>\n",
       "      <td>CLE</td>\n",
       "      <td>Courtney Brown</td>\n",
       "      <td>DE</td>\n",
       "      <td>22.0</td>\n",
       "      <td>Penn St.</td>\n",
       "      <td>http://www.sports-reference.com/cfb/players/co...</td>\n",
       "      <td>6-5</td>\n",
       "      <td>...</td>\n",
       "      <td>0.0</td>\n",
       "      <td>1.0</td>\n",
       "      <td>0.0</td>\n",
       "      <td>0.0</td>\n",
       "      <td>0.0</td>\n",
       "      <td>0.0</td>\n",
       "      <td>1.0</td>\n",
       "      <td>6.0</td>\n",
       "      <td>0.0</td>\n",
       "      <td>0.0</td>\n",
       "    </tr>\n",
       "    <tr>\n",
       "      <th>1</th>\n",
       "      <td>2000.0</td>\n",
       "      <td>1</td>\n",
       "      <td>2.0</td>\n",
       "      <td>WAS</td>\n",
       "      <td>LaVar Arrington</td>\n",
       "      <td>LB</td>\n",
       "      <td>22.0</td>\n",
       "      <td>Penn St.</td>\n",
       "      <td>http://www.sports-reference.com/cfb/players/la...</td>\n",
       "      <td>6-3</td>\n",
       "      <td>...</td>\n",
       "      <td>0.0</td>\n",
       "      <td>1.0</td>\n",
       "      <td>0.0</td>\n",
       "      <td>0.0</td>\n",
       "      <td>0.0</td>\n",
       "      <td>0.0</td>\n",
       "      <td>1.0</td>\n",
       "      <td>6.0</td>\n",
       "      <td>0.0</td>\n",
       "      <td>0.0</td>\n",
       "    </tr>\n",
       "    <tr>\n",
       "      <th>2</th>\n",
       "      <td>2000.0</td>\n",
       "      <td>1</td>\n",
       "      <td>3.0</td>\n",
       "      <td>WAS</td>\n",
       "      <td>Chris Samuels</td>\n",
       "      <td>T</td>\n",
       "      <td>23.0</td>\n",
       "      <td>Alabama</td>\n",
       "      <td>http://www.sports-reference.com/cfb/players/ch...</td>\n",
       "      <td>6-5</td>\n",
       "      <td>...</td>\n",
       "      <td>0.0</td>\n",
       "      <td>0.0</td>\n",
       "      <td>0.0</td>\n",
       "      <td>0.0</td>\n",
       "      <td>0.0</td>\n",
       "      <td>0.0</td>\n",
       "      <td>0.0</td>\n",
       "      <td>0.0</td>\n",
       "      <td>0.0</td>\n",
       "      <td>0.0</td>\n",
       "    </tr>\n",
       "    <tr>\n",
       "      <th>3</th>\n",
       "      <td>2000.0</td>\n",
       "      <td>1</td>\n",
       "      <td>4.0</td>\n",
       "      <td>CIN</td>\n",
       "      <td>Peter Warrick</td>\n",
       "      <td>WR</td>\n",
       "      <td>23.0</td>\n",
       "      <td>Florida St.</td>\n",
       "      <td>http://www.sports-reference.com/cfb/players/pe...</td>\n",
       "      <td>5-11</td>\n",
       "      <td>...</td>\n",
       "      <td>0.0</td>\n",
       "      <td>0.0</td>\n",
       "      <td>0.0</td>\n",
       "      <td>2.0</td>\n",
       "      <td>32.0</td>\n",
       "      <td>4.0</td>\n",
       "      <td>38.0</td>\n",
       "      <td>228.0</td>\n",
       "      <td>0.0</td>\n",
       "      <td>26.7</td>\n",
       "    </tr>\n",
       "    <tr>\n",
       "      <th>4</th>\n",
       "      <td>2000.0</td>\n",
       "      <td>1</td>\n",
       "      <td>5.0</td>\n",
       "      <td>BAL</td>\n",
       "      <td>Jamal Lewis</td>\n",
       "      <td>RB</td>\n",
       "      <td>21.0</td>\n",
       "      <td>Tennessee</td>\n",
       "      <td>http://www.sports-reference.com/cfb/players/ja...</td>\n",
       "      <td>6-0</td>\n",
       "      <td>...</td>\n",
       "      <td>0.0</td>\n",
       "      <td>0.0</td>\n",
       "      <td>0.0</td>\n",
       "      <td>0.0</td>\n",
       "      <td>4.0</td>\n",
       "      <td>17.0</td>\n",
       "      <td>21.0</td>\n",
       "      <td>126.0</td>\n",
       "      <td>0.0</td>\n",
       "      <td>10.0</td>\n",
       "    </tr>\n",
       "  </tbody>\n",
       "</table>\n",
       "<p>5 rows × 75 columns</p>\n",
       "</div>"
      ],
      "text/plain": [
       "     year  round  pick team           player pos   age      college  \\\n",
       "0  2000.0      1   1.0  CLE   Courtney Brown  DE  22.0     Penn St.   \n",
       "1  2000.0      1   2.0  WAS  LaVar Arrington  LB  22.0     Penn St.   \n",
       "2  2000.0      1   3.0  WAS    Chris Samuels   T  23.0      Alabama   \n",
       "3  2000.0      1   4.0  CIN    Peter Warrick  WR  23.0  Florida St.   \n",
       "4  2000.0      1   5.0  BAL      Jamal Lewis  RB  21.0    Tennessee   \n",
       "\n",
       "                                                 key height  \\\n",
       "0  http://www.sports-reference.com/cfb/players/co...    6-5   \n",
       "1  http://www.sports-reference.com/cfb/players/la...    6-3   \n",
       "2  http://www.sports-reference.com/cfb/players/ch...    6-5   \n",
       "3  http://www.sports-reference.com/cfb/players/pe...   5-11   \n",
       "4  http://www.sports-reference.com/cfb/players/ja...    6-0   \n",
       "\n",
       "         ...          td_fr  td_int  td_kr  td_pr  td_rec  td_rush  td_tot  \\\n",
       "0        ...            0.0     1.0    0.0    0.0     0.0      0.0     1.0   \n",
       "1        ...            0.0     1.0    0.0    0.0     0.0      0.0     1.0   \n",
       "2        ...            0.0     0.0    0.0    0.0     0.0      0.0     0.0   \n",
       "3        ...            0.0     0.0    0.0    2.0    32.0      4.0    38.0   \n",
       "4        ...            0.0     0.0    0.0    0.0     4.0     17.0    21.0   \n",
       "\n",
       "   total_pts  twopm  yards_per_attempt  \n",
       "0        6.0    0.0                0.0  \n",
       "1        6.0    0.0                0.0  \n",
       "2        0.0    0.0                0.0  \n",
       "3      228.0    0.0               26.7  \n",
       "4      126.0    0.0               10.0  \n",
       "\n",
       "[5 rows x 75 columns]"
      ]
     },
     "execution_count": 338,
     "metadata": {},
     "output_type": "execute_result"
    }
   ],
   "source": [
    "combined.head()"
   ]
  },
  {
   "cell_type": "code",
   "execution_count": 331,
   "metadata": {},
   "outputs": [
    {
     "data": {
      "text/plain": [
       "float64    70\n",
       "object      6\n",
       "dtype: int64"
      ]
     },
     "execution_count": 331,
     "metadata": {},
     "output_type": "execute_result"
    }
   ],
   "source": [
    "combined.dtypes.value_counts()"
   ]
  },
  {
   "cell_type": "markdown",
   "metadata": {},
   "source": [
    "Six remaining categorical fields to either encode or remove."
   ]
  },
  {
   "cell_type": "code",
   "execution_count": 104,
   "metadata": {},
   "outputs": [
    {
     "data": {
      "text/plain": [
       "year                        0\n",
       "round                       0\n",
       "pick                        0\n",
       "team                        0\n",
       "player                      0\n",
       "pos                         0\n",
       "age                      1753\n",
       "college                     0\n",
       "key                         0\n",
       "height                    774\n",
       "weight                    774\n",
       "forty                     821\n",
       "vertical                 1893\n",
       "bench                    2378\n",
       "broad                    1919\n",
       "threecone                2429\n",
       "shuttle                  2394\n",
       "combine_participant         0\n",
       "adj_yards_per_attempt       0\n",
       "ast_tackles                 0\n",
       "attempts                    0\n",
       "comp_pct                    0\n",
       "completions                 0\n",
       "fum_forced                  0\n",
       "fum_rec                     0\n",
       "fum_tds                     0\n",
       "fum_yds                     0\n",
       "games                       0\n",
       "int                         0\n",
       "int_rate                    0\n",
       "                         ... \n",
       "punt_return_td              0\n",
       "punt_return_yards           0\n",
       "punt_returns                0\n",
       "rec_avg                     0\n",
       "rec_td                      0\n",
       "rec_yards                   0\n",
       "receptions                  0\n",
       "rush_att                    0\n",
       "rush_avg                    0\n",
       "rush_td                     0\n",
       "rush_yds                    0\n",
       "sacks                       0\n",
       "safety                      0\n",
       "scrim_avg                   0\n",
       "scrim_plays                 0\n",
       "scrim_tds                   0\n",
       "scrim_yds                   0\n",
       "seasons                     0\n",
       "solo_tackes                 0\n",
       "tackles                     0\n",
       "td_fr                       0\n",
       "td_int                      0\n",
       "td_kr                       0\n",
       "td_pr                       0\n",
       "td_rec                      0\n",
       "td_rush                     0\n",
       "td_tot                      0\n",
       "total_pts                   0\n",
       "twopm                       0\n",
       "yards_per_attempt           0\n",
       "Length: 75, dtype: int64"
      ]
     },
     "execution_count": 104,
     "metadata": {},
     "output_type": "execute_result"
    }
   ],
   "source": [
    "combined.isnull().sum()"
   ]
  },
  {
   "cell_type": "markdown",
   "metadata": {},
   "source": [
    "Missing combine data to be imputed based on positional group."
   ]
  },
  {
   "cell_type": "code",
   "execution_count": 105,
   "metadata": {},
   "outputs": [
    {
     "data": {
      "image/png": "[encoded data removed]",
      "text/plain": [
       "<matplotlib.figure.Figure at 0x115f8afd6a0>"
      ]
     },
     "metadata": {},
     "output_type": "display_data"
    }
   ],
   "source": [
    "# Assess correlation\n",
    "import matplotlib.pyplot as plt\n",
    "\n",
    "_ = plt.figure(figsize=(8,8))\n",
    "_ = plt.matshow(combined.drop(['year','round','pick'],axis=1).corr(), fignum=1)\n",
    "plt.show()"
   ]
  },
  {
   "cell_type": "markdown",
   "metadata": {},
   "source": [
    "There appears to be several pockets of highly correlated dimensions."
   ]
  },
  {
   "cell_type": "code",
   "execution_count": 107,
   "metadata": {},
   "outputs": [
    {
     "data": {
      "text/html": [
       "<div>\n",
       "<style>\n",
       "    .dataframe thead tr:only-child th {\n",
       "        text-align: right;\n",
       "    }\n",
       "\n",
       "    .dataframe thead th {\n",
       "        text-align: left;\n",
       "    }\n",
       "\n",
       "    .dataframe tbody tr th {\n",
       "        vertical-align: top;\n",
       "    }\n",
       "</style>\n",
       "<table border=\"1\" class=\"dataframe\">\n",
       "  <thead>\n",
       "    <tr style=\"text-align: right;\">\n",
       "      <th></th>\n",
       "      <th>corr</th>\n",
       "    </tr>\n",
       "  </thead>\n",
       "  <tbody>\n",
       "    <tr>\n",
       "      <th>completions-attempts</th>\n",
       "      <td>0.996953</td>\n",
       "    </tr>\n",
       "    <tr>\n",
       "      <th>attempts-completions</th>\n",
       "      <td>0.996953</td>\n",
       "    </tr>\n",
       "    <tr>\n",
       "      <th>scrim_plays-receptions</th>\n",
       "      <td>0.996791</td>\n",
       "    </tr>\n",
       "    <tr>\n",
       "      <th>receptions-scrim_plays</th>\n",
       "      <td>0.996791</td>\n",
       "    </tr>\n",
       "    <tr>\n",
       "      <th>pass_yards-completions</th>\n",
       "      <td>0.995823</td>\n",
       "    </tr>\n",
       "    <tr>\n",
       "      <th>completions-pass_yards</th>\n",
       "      <td>0.995823</td>\n",
       "    </tr>\n",
       "    <tr>\n",
       "      <th>pass_yards-attempts</th>\n",
       "      <td>0.995590</td>\n",
       "    </tr>\n",
       "    <tr>\n",
       "      <th>attempts-pass_yards</th>\n",
       "      <td>0.995590</td>\n",
       "    </tr>\n",
       "    <tr>\n",
       "      <th>kick_returns-kick_return_yards</th>\n",
       "      <td>0.995334</td>\n",
       "    </tr>\n",
       "    <tr>\n",
       "      <th>kick_return_yards-kick_returns</th>\n",
       "      <td>0.995334</td>\n",
       "    </tr>\n",
       "  </tbody>\n",
       "</table>\n",
       "</div>"
      ],
      "text/plain": [
       "                                    corr\n",
       "completions-attempts            0.996953\n",
       "attempts-completions            0.996953\n",
       "scrim_plays-receptions          0.996791\n",
       "receptions-scrim_plays          0.996791\n",
       "pass_yards-completions          0.995823\n",
       "completions-pass_yards          0.995823\n",
       "pass_yards-attempts             0.995590\n",
       "attempts-pass_yards             0.995590\n",
       "kick_returns-kick_return_yards  0.995334\n",
       "kick_return_yards-kick_returns  0.995334"
      ]
     },
     "execution_count": 107,
     "metadata": {},
     "output_type": "execute_result"
    }
   ],
   "source": [
    "c = combined.drop(['year','round','pick'],axis=1).corr().abs()\n",
    "c = c.unstack().to_frame()\n",
    "\n",
    "c.index = ['-'.join(col).strip() for col in c.index.values]\n",
    "c = c.rename(columns={0:'corr'})\n",
    "\n",
    "c[c['corr'] < 1.0].sort_values(by='corr', ascending=False).head(10)"
   ]
  },
  {
   "cell_type": "markdown",
   "metadata": {},
   "source": [
    "There are several highly correlated fields around game stats, particularly those that relate as \"attempts\" and \"successes\".  Converting attempts to a success rate field may be helpful.\n",
    "\n",
    "## CHECKPOINT - Modeling"
   ]
  },
  {
   "cell_type": "code",
   "execution_count": 147,
   "metadata": {},
   "outputs": [],
   "source": [
    "%run project_util.py\n",
    "perform_unit_tests()\n",
    "draft = load_draft_data()\n",
    "comb = load_combine_data()\n",
    "stats = load_college_data()\n",
    "combined = combine_data_sets(draft, comb, stats)\n",
    "combined = engineer_features(combined)"
   ]
  },
  {
   "cell_type": "code",
   "execution_count": 148,
   "metadata": {},
   "outputs": [
    {
     "name": "stdout",
     "output_type": "stream",
     "text": [
      "Random Forest: 0.3861182519280206\n"
     ]
    }
   ],
   "source": [
    "X_train, y_train, X_test, y_test = perform_modeling_prep(combined, 'round')\n",
    "\n",
    "rf_clf, rf_y_predict, rf_accuracy = perform_random_forest(X_train, y_train, X_test, y_test)\n",
    "print('Random Forest: {}'.format(rf_accuracy))"
   ]
  },
  {
   "cell_type": "code",
   "execution_count": 149,
   "metadata": {},
   "outputs": [
    {
     "data": {
      "image/png": "[encoded data removed]",
      "text/plain": [
       "<matplotlib.figure.Figure at 0x1d0c5526ba8>"
      ]
     },
     "metadata": {},
     "output_type": "display_data"
    }
   ],
   "source": [
    "import matplotlib.pyplot as plt\n",
    "import seaborn as sns\n",
    "feature_imp = pd.Series(rf_clf.feature_importances_,index=X_train.columns).sort_values(ascending=False)\n",
    "_ = plt.figure(figsize=(10,15))\n",
    "_ = sns.barplot(x=feature_imp, y=feature_imp.index)\n",
    "# Add labels to your graph\n",
    "plt.xlabel('Feature Importance Score')\n",
    "plt.ylabel('Features')\n",
    "plt.title(\"Visualizing Important Features\")\n",
    "plt.legend()\n",
    "plt.show()"
   ]
  },
  {
   "cell_type": "markdown",
   "metadata": {},
   "source": [
    "## Alternative Approach - Drafted / Undrafted"
   ]
  },
  {
   "cell_type": "code",
   "execution_count": 155,
   "metadata": {},
   "outputs": [
    {
     "name": "stdout",
     "output_type": "stream",
     "text": [
      "Random Forest: 0.9372750642673522\n"
     ]
    }
   ],
   "source": [
    "combined['drafted'] = combined['round'].apply(lambda x: 0 if x == 8 else 1)\n",
    "combined.drop(['round'], axis=1, inplace=True)\n",
    "X_train, y_train, X_test, y_test = perform_modeling_prep(combined, 'drafted')\n",
    "\n",
    "rf_clf, rf_y_predict, rf_accuracy = perform_random_forest(X_train, y_train, X_test, y_test)\n",
    "print('Random Forest: {}'.format(rf_accuracy))"
   ]
  },
  {
   "cell_type": "markdown",
   "metadata": {},
   "source": [
    "## Testing Stuff"
   ]
  },
  {
   "cell_type": "code",
   "execution_count": 77,
   "metadata": {},
   "outputs": [],
   "source": [
    "c_cols = ['age', 'height', 'weight', 'forty', 'vertical', 'broad', 'bench', 'threecone', 'shuttle']\n",
    "\n",
    "# for col in c_cols:\n",
    "#     drop_cols = [x for x in c_cols if x != col]\n",
    "#     print(use_cols)\n",
    "\n",
    "drop_cols = [x for x in c_cols if x != 'forty']\n",
    "drop_cols.append('round')\n",
    "\n",
    "comb_test = combined.dropna(axis=0, how='any').drop(drop_cols, axis=1)\n",
    "\n",
    "X_train, y_train, X_test, y_test = perform_modeling_prep(comb_test, 'age')"
   ]
  },
  {
   "cell_type": "code",
   "execution_count": 156,
   "metadata": {},
   "outputs": [],
   "source": [
    "# Modeling Wrapper Function\n",
    "def perform_modeling(target):\n",
    "    # Load and prep data\n",
    "    %run project_util.py\n",
    "    perform_unit_tests()\n",
    "    draft = load_draft_data()\n",
    "    comb = load_combine_data()\n",
    "    stats = load_college_data()\n",
    "    combined = combine_data_sets(draft, comb, stats)\n",
    "    combined = engineer_features(combined)\n",
    "\n",
    "    # Define target column\n",
    "    target_col = 'r{}'.format(target)\n",
    "\n",
    "    # Populate column and drop round feature\n",
    "    combined[target_col] = combined['round'].astype(int).apply(lambda x: 1 if x == target else 0)\n",
    "    combined.drop(['round'], axis=1, inplace=True)\n",
    "\n",
    "    # Train / Test Split\n",
    "    X_train, y_train, X_test, y_test = perform_modeling_prep(combined, target_col)\n",
    "\n",
    "    # Perform Random Forest\n",
    "    rf_clf, rf_y_predict, rf_accuracy = perform_random_forest(X_train, y_train, X_test, y_test)\n",
    "    \n",
    "    d = {'target': target, 'model': 'rf', 'clf': rf_clf, 'predictions': rf_y_predict, 'accuracy': rf_accuracy}\n",
    "\n",
    "    # Perform SVM\n",
    "#     svm_clf, svm_y_predict, svm_accuracy = perform_svm(X_train, y_train, X_test, y_test)\n",
    "\n",
    "#     d = {'target': target, 'model': 'svm', 'clf': svm_clf, 'predictions': svm_y_predict, 'accuracy': svm_accuracy}\n",
    "    \n",
    "    return d\n"
   ]
  },
  {
   "cell_type": "code",
   "execution_count": 157,
   "metadata": {},
   "outputs": [],
   "source": [
    "# Generate predictions on each round\n",
    "targets = [1, 2, 3, 4, 5, 6, 7, 8]\n",
    "results = []\n",
    "\n",
    "for t in targets:\n",
    "    results.append(perform_modeling(t))"
   ]
  },
  {
   "cell_type": "code",
   "execution_count": 302,
   "metadata": {},
   "outputs": [],
   "source": [
    "def pred_to_round(x):\n",
    "    preds = [i if i == 0 else x['target'] for i in x['predictions']]\n",
    "\n",
    "    return list(preds)"
   ]
  },
  {
   "cell_type": "code",
   "execution_count": 352,
   "metadata": {},
   "outputs": [
    {
     "name": "stdout",
     "output_type": "stream",
     "text": [
      "1\n",
      "2\n",
      "3\n",
      "4\n",
      "5\n",
      "6\n",
      "7\n",
      "8\n"
     ]
    }
   ],
   "source": [
    "for result in results:\n",
    "    print(result['target'])\n",
    "    for x in result['predictions']:\n",
    "        if x == 1:\n",
    "            result['predictions'][x] = result['target']"
   ]
  },
  {
   "cell_type": "code",
   "execution_count": 347,
   "metadata": {},
   "outputs": [
    {
     "data": {
      "text/plain": [
       "0    5047\n",
       "1     509\n",
       "Name: R1, dtype: int64"
      ]
     },
     "execution_count": 347,
     "metadata": {},
     "output_type": "execute_result"
    }
   ],
   "source": [
    "target_col = 'R1'\n",
    "target = 1\n",
    "\n",
    "combined[target_col] = combined['round'].astype(int).apply(lambda x: 1 if x == target else 0)\n",
    "#combined.drop(['round'], axis=1, inplace=True)\n",
    "\n",
    "combined[target_col].value_counts()"
   ]
  }
 ],
 "metadata": {
  "kernelspec": {
   "display_name": "Python 3",
   "language": "python",
   "name": "python3"
  },
  "language_info": {
   "codemirror_mode": {
    "name": "ipython",
    "version": 3
   },
   "file_extension": ".py",
   "mimetype": "text/x-python",
   "name": "python",
   "nbconvert_exporter": "python",
   "pygments_lexer": "ipython3",
   "version": "3.6.3"
  }
 },
 "nbformat": 4,
 "nbformat_minor": 2
}
